{
 "cells": [
  {
   "cell_type": "code",
   "execution_count": 44,
   "metadata": {},
   "outputs": [],
   "source": [
    "import pandas as pd\n",
    "import numpy as np\n",
    "import matplotlib.pyplot as plt"
   ]
  },
  {
   "cell_type": "markdown",
   "metadata": {},
   "source": [
    "# Read a comma-separated values (csv) file into DataFrame.\n",
    "\n",
    "The data folder contains a file named \"newark_tree_data.csv\". Read this file into a dataframe.\n",
    "\n",
    "\n",
    "resources:\n",
    "* [Pandas read csv docs](https://pandas.pydata.org/pandas-docs/stable/reference/api/pandas.read_csv.html#pandas.read_csv)"
   ]
  },
  {
   "cell_type": "code",
   "execution_count": 6,
   "metadata": {},
   "outputs": [],
   "source": [
    "# Create DataFrame here.\n",
    "newdf=pd.read_csv(\"data/newark_tree_data.csv\")"
   ]
  },
  {
   "cell_type": "code",
   "execution_count": 7,
   "metadata": {},
   "outputs": [
    {
     "data": {
      "text/html": [
       "<div>\n",
       "<style scoped>\n",
       "    .dataframe tbody tr th:only-of-type {\n",
       "        vertical-align: middle;\n",
       "    }\n",
       "\n",
       "    .dataframe tbody tr th {\n",
       "        vertical-align: top;\n",
       "    }\n",
       "\n",
       "    .dataframe thead th {\n",
       "        text-align: right;\n",
       "    }\n",
       "</style>\n",
       "<table border=\"1\" class=\"dataframe\">\n",
       "  <thead>\n",
       "    <tr style=\"text-align: right;\">\n",
       "      <th></th>\n",
       "      <th>ID</th>\n",
       "      <th>ON</th>\n",
       "      <th>AREA</th>\n",
       "      <th>ADDRESS</th>\n",
       "      <th>STREET</th>\n",
       "      <th>SITE</th>\n",
       "      <th>SIDE</th>\n",
       "      <th>ASSIGNED</th>\n",
       "      <th>COMMON</th>\n",
       "      <th>BOTANICAL</th>\n",
       "      <th>...</th>\n",
       "      <th>IMPROPMULC</th>\n",
       "      <th>IMPROPPRUN</th>\n",
       "      <th>NUTRIENTD</th>\n",
       "      <th>PEST</th>\n",
       "      <th>GIRDLING</th>\n",
       "      <th>STRESS</th>\n",
       "      <th>OHUTILITY</th>\n",
       "      <th>TOP_HEIGHT</th>\n",
       "      <th>CROWN_M</th>\n",
       "      <th>CROWN_DIE</th>\n",
       "    </tr>\n",
       "  </thead>\n",
       "  <tbody>\n",
       "    <tr>\n",
       "      <th>0</th>\n",
       "      <td>11.0</td>\n",
       "      <td>Elan Park</td>\n",
       "      <td>Elan Park</td>\n",
       "      <td>2</td>\n",
       "      <td>Blue Hen Rg</td>\n",
       "      <td>11.0</td>\n",
       "      <td>Front</td>\n",
       "      <td>False</td>\n",
       "      <td>arborvitae, eastern</td>\n",
       "      <td>Thuja occidentalis</td>\n",
       "      <td>...</td>\n",
       "      <td>False</td>\n",
       "      <td>False</td>\n",
       "      <td>False</td>\n",
       "      <td>False</td>\n",
       "      <td>False</td>\n",
       "      <td>False</td>\n",
       "      <td>No</td>\n",
       "      <td>40</td>\n",
       "      <td>0-5%</td>\n",
       "      <td>0-5%</td>\n",
       "    </tr>\n",
       "    <tr>\n",
       "      <th>1</th>\n",
       "      <td>12.0</td>\n",
       "      <td>Elan Park</td>\n",
       "      <td>Elan Park</td>\n",
       "      <td>2</td>\n",
       "      <td>Blue Hen Rg</td>\n",
       "      <td>12.0</td>\n",
       "      <td>Front</td>\n",
       "      <td>False</td>\n",
       "      <td>arborvitae, eastern</td>\n",
       "      <td>Thuja occidentalis</td>\n",
       "      <td>...</td>\n",
       "      <td>False</td>\n",
       "      <td>False</td>\n",
       "      <td>False</td>\n",
       "      <td>False</td>\n",
       "      <td>False</td>\n",
       "      <td>False</td>\n",
       "      <td>No</td>\n",
       "      <td>41</td>\n",
       "      <td>0-5%</td>\n",
       "      <td>0-5%</td>\n",
       "    </tr>\n",
       "    <tr>\n",
       "      <th>2</th>\n",
       "      <td>13.0</td>\n",
       "      <td>Elan Park</td>\n",
       "      <td>Elan Park</td>\n",
       "      <td>2</td>\n",
       "      <td>Blue Hen Rg</td>\n",
       "      <td>13.0</td>\n",
       "      <td>Front</td>\n",
       "      <td>False</td>\n",
       "      <td>pine, eastern white</td>\n",
       "      <td>Pinus strobus</td>\n",
       "      <td>...</td>\n",
       "      <td>False</td>\n",
       "      <td>False</td>\n",
       "      <td>False</td>\n",
       "      <td>False</td>\n",
       "      <td>True</td>\n",
       "      <td>False</td>\n",
       "      <td>No</td>\n",
       "      <td>54</td>\n",
       "      <td>0-5%</td>\n",
       "      <td>6-10%</td>\n",
       "    </tr>\n",
       "    <tr>\n",
       "      <th>3</th>\n",
       "      <td>14.0</td>\n",
       "      <td>Elan Park</td>\n",
       "      <td>Elan Park</td>\n",
       "      <td>2</td>\n",
       "      <td>Blue Hen Rg</td>\n",
       "      <td>14.0</td>\n",
       "      <td>Front</td>\n",
       "      <td>False</td>\n",
       "      <td>whitecedar, Atlantic</td>\n",
       "      <td>Chamaecyparis thyoides</td>\n",
       "      <td>...</td>\n",
       "      <td>False</td>\n",
       "      <td>False</td>\n",
       "      <td>False</td>\n",
       "      <td>False</td>\n",
       "      <td>True</td>\n",
       "      <td>False</td>\n",
       "      <td>No</td>\n",
       "      <td>57</td>\n",
       "      <td>11-15%</td>\n",
       "      <td>26-30%</td>\n",
       "    </tr>\n",
       "    <tr>\n",
       "      <th>4</th>\n",
       "      <td>15.0</td>\n",
       "      <td>Elan Park</td>\n",
       "      <td>Elan Park</td>\n",
       "      <td>2</td>\n",
       "      <td>Blue Hen Rg</td>\n",
       "      <td>15.0</td>\n",
       "      <td>Front</td>\n",
       "      <td>False</td>\n",
       "      <td>whitecedar, Atlantic</td>\n",
       "      <td>Chamaecyparis thyoides</td>\n",
       "      <td>...</td>\n",
       "      <td>False</td>\n",
       "      <td>False</td>\n",
       "      <td>False</td>\n",
       "      <td>False</td>\n",
       "      <td>True</td>\n",
       "      <td>False</td>\n",
       "      <td>No</td>\n",
       "      <td>55</td>\n",
       "      <td>11-15%</td>\n",
       "      <td>21-25%</td>\n",
       "    </tr>\n",
       "  </tbody>\n",
       "</table>\n",
       "<p>5 rows × 54 columns</p>\n",
       "</div>"
      ],
      "text/plain": [
       "     ID         ON       AREA  ADDRESS       STREET  SITE   SIDE  ASSIGNED  \\\n",
       "0  11.0  Elan Park  Elan Park        2  Blue Hen Rg  11.0  Front     False   \n",
       "1  12.0  Elan Park  Elan Park        2  Blue Hen Rg  12.0  Front     False   \n",
       "2  13.0  Elan Park  Elan Park        2  Blue Hen Rg  13.0  Front     False   \n",
       "3  14.0  Elan Park  Elan Park        2  Blue Hen Rg  14.0  Front     False   \n",
       "4  15.0  Elan Park  Elan Park        2  Blue Hen Rg  15.0  Front     False   \n",
       "\n",
       "                 COMMON               BOTANICAL  ... IMPROPMULC  IMPROPPRUN  \\\n",
       "0   arborvitae, eastern      Thuja occidentalis  ...      False       False   \n",
       "1   arborvitae, eastern      Thuja occidentalis  ...      False       False   \n",
       "2   pine, eastern white           Pinus strobus  ...      False       False   \n",
       "3  whitecedar, Atlantic  Chamaecyparis thyoides  ...      False       False   \n",
       "4  whitecedar, Atlantic  Chamaecyparis thyoides  ...      False       False   \n",
       "\n",
       "  NUTRIENTD   PEST GIRDLING STRESS  OHUTILITY  TOP_HEIGHT CROWN_M CROWN_DIE  \n",
       "0     False  False    False  False         No          40    0-5%      0-5%  \n",
       "1     False  False    False  False         No          41    0-5%      0-5%  \n",
       "2     False  False     True  False         No          54    0-5%     6-10%  \n",
       "3     False  False     True  False         No          57  11-15%    26-30%  \n",
       "4     False  False     True  False         No          55  11-15%    21-25%  \n",
       "\n",
       "[5 rows x 54 columns]"
      ]
     },
     "execution_count": 7,
     "metadata": {},
     "output_type": "execute_result"
    }
   ],
   "source": [
    "# Display the first few rows of the DataFrame here.\n",
    "newdf.head()"
   ]
  },
  {
   "cell_type": "code",
   "execution_count": 10,
   "metadata": {},
   "outputs": [
    {
     "data": {
      "text/plain": [
       "(4193, 54)"
      ]
     },
     "execution_count": 10,
     "metadata": {},
     "output_type": "execute_result"
    }
   ],
   "source": [
    "# How many columns does the DataFrame contain?\n",
    "newdf.shape"
   ]
  },
  {
   "cell_type": "code",
   "execution_count": 11,
   "metadata": {},
   "outputs": [
    {
     "data": {
      "text/plain": [
       "Index(['ID', 'ON', 'AREA', 'ADDRESS', 'STREET', 'SITE', 'SIDE', 'ASSIGNED',\n",
       "       'COMMON', 'BOTANICAL', 'CULTIVAR', 'DBH', 'REMOVAL', 'STEMS', 'COND',\n",
       "       'MAINTPRIM', 'OBSERVE', 'INSPECT', 'LOCATION', 'NOTES', 'DATE', 'TIME',\n",
       "       'STAFF', 'XCOORD', 'YCOORD', 'FAILURE', 'LIKELIHOOD', 'TARGET',\n",
       "       'CONSEQ', 'RISK', 'UNIQUEID', 'EDITTIME', 'SPREAD', 'HEIGHT',\n",
       "       'CLEARANCE', 'DECAYCL', 'DECAYT', 'DECAYRF', 'DAMC', 'DAMT', 'DAMRF',\n",
       "       'CAVITYCL', 'CAVITYT', 'CAVITYRF', 'IMPROPMULC', 'IMPROPPRUN',\n",
       "       'NUTRIENTD', 'PEST', 'GIRDLING', 'STRESS', 'OHUTILITY', 'TOP_HEIGHT',\n",
       "       'CROWN_M', 'CROWN_DIE'],\n",
       "      dtype='object')"
      ]
     },
     "execution_count": 11,
     "metadata": {},
     "output_type": "execute_result"
    }
   ],
   "source": [
    "# What attributes (columns) does this DataFrame contain?\n",
    "newdf.columns"
   ]
  },
  {
   "cell_type": "markdown",
   "metadata": {},
   "source": [
    "Upon reviewing the columns of the DataFrame, we see that there is already a column named ID that is well suited for an index column.  \n",
    "\n",
    "For the purposes of this lab, we are only going to need a few of the available attributes. The attributes we wish to keep are listed below:\n",
    "* ID\n",
    "* UNIQUEID\n",
    "* COMMON\n",
    "* BOTANICAL\n",
    "* COND\n",
    "* RISK\n",
    "* HEIGHT\n",
    "\n",
    "Let's provide the index_col and the usecols args when we invoke the read_csv method."
   ]
  },
  {
   "cell_type": "code",
   "execution_count": 26,
   "metadata": {},
   "outputs": [],
   "source": [
    "# Create the new DataFrame here.\n",
    "betterdf=pd.read_csv(\"data/newark_tree_data.csv\", usecols=[\"ID\", \"UNIQUEID\", \"COMMON\", \"BOTANICAL\", \"COND\",\"RISK\",\"HEIGHT\"])"
   ]
  },
  {
   "cell_type": "code",
   "execution_count": 27,
   "metadata": {},
   "outputs": [
    {
     "data": {
      "text/html": [
       "<div>\n",
       "<style scoped>\n",
       "    .dataframe tbody tr th:only-of-type {\n",
       "        vertical-align: middle;\n",
       "    }\n",
       "\n",
       "    .dataframe tbody tr th {\n",
       "        vertical-align: top;\n",
       "    }\n",
       "\n",
       "    .dataframe thead th {\n",
       "        text-align: right;\n",
       "    }\n",
       "</style>\n",
       "<table border=\"1\" class=\"dataframe\">\n",
       "  <thead>\n",
       "    <tr style=\"text-align: right;\">\n",
       "      <th></th>\n",
       "      <th>ID</th>\n",
       "      <th>COMMON</th>\n",
       "      <th>BOTANICAL</th>\n",
       "      <th>COND</th>\n",
       "      <th>RISK</th>\n",
       "      <th>UNIQUEID</th>\n",
       "      <th>HEIGHT</th>\n",
       "    </tr>\n",
       "  </thead>\n",
       "  <tbody>\n",
       "    <tr>\n",
       "      <th>0</th>\n",
       "      <td>11.0</td>\n",
       "      <td>arborvitae, eastern</td>\n",
       "      <td>Thuja occidentalis</td>\n",
       "      <td>Good</td>\n",
       "      <td>Low</td>\n",
       "      <td>LM 20150929141218</td>\n",
       "      <td>40</td>\n",
       "    </tr>\n",
       "    <tr>\n",
       "      <th>1</th>\n",
       "      <td>12.0</td>\n",
       "      <td>arborvitae, eastern</td>\n",
       "      <td>Thuja occidentalis</td>\n",
       "      <td>Very Good</td>\n",
       "      <td>Low</td>\n",
       "      <td>LM 20150929141418</td>\n",
       "      <td>40</td>\n",
       "    </tr>\n",
       "    <tr>\n",
       "      <th>2</th>\n",
       "      <td>13.0</td>\n",
       "      <td>pine, eastern white</td>\n",
       "      <td>Pinus strobus</td>\n",
       "      <td>Good</td>\n",
       "      <td>Low</td>\n",
       "      <td>LM 20150929141844</td>\n",
       "      <td>54</td>\n",
       "    </tr>\n",
       "    <tr>\n",
       "      <th>3</th>\n",
       "      <td>14.0</td>\n",
       "      <td>whitecedar, Atlantic</td>\n",
       "      <td>Chamaecyparis thyoides</td>\n",
       "      <td>Fair</td>\n",
       "      <td>Low</td>\n",
       "      <td>LM 20150929142424</td>\n",
       "      <td>56</td>\n",
       "    </tr>\n",
       "    <tr>\n",
       "      <th>4</th>\n",
       "      <td>15.0</td>\n",
       "      <td>whitecedar, Atlantic</td>\n",
       "      <td>Chamaecyparis thyoides</td>\n",
       "      <td>Fair</td>\n",
       "      <td>Low</td>\n",
       "      <td>LM 20150929143018</td>\n",
       "      <td>55</td>\n",
       "    </tr>\n",
       "  </tbody>\n",
       "</table>\n",
       "</div>"
      ],
      "text/plain": [
       "     ID                COMMON               BOTANICAL       COND RISK  \\\n",
       "0  11.0   arborvitae, eastern      Thuja occidentalis       Good  Low   \n",
       "1  12.0   arborvitae, eastern      Thuja occidentalis  Very Good  Low   \n",
       "2  13.0   pine, eastern white           Pinus strobus       Good  Low   \n",
       "3  14.0  whitecedar, Atlantic  Chamaecyparis thyoides       Fair  Low   \n",
       "4  15.0  whitecedar, Atlantic  Chamaecyparis thyoides       Fair  Low   \n",
       "\n",
       "            UNIQUEID  HEIGHT  \n",
       "0  LM 20150929141218      40  \n",
       "1  LM 20150929141418      40  \n",
       "2  LM 20150929141844      54  \n",
       "3  LM 20150929142424      56  \n",
       "4  LM 20150929143018      55  "
      ]
     },
     "execution_count": 27,
     "metadata": {},
     "output_type": "execute_result"
    }
   ],
   "source": [
    "# Display the first few rows of the new DataFrame here.\n",
    "betterdf.head()"
   ]
  },
  {
   "cell_type": "markdown",
   "metadata": {},
   "source": [
    "The data narritive specifies that 4,193 sites were inventoried. Use the DataFrame shape attribute to verify the number of rows."
   ]
  },
  {
   "cell_type": "code",
   "execution_count": 28,
   "metadata": {},
   "outputs": [
    {
     "data": {
      "text/plain": [
       "(4193, 7)"
      ]
     },
     "execution_count": 28,
     "metadata": {},
     "output_type": "execute_result"
    }
   ],
   "source": [
    "# How many rows does your DataFrame contain.\n",
    "betterdf.shape\n",
    "# 4194 rows"
   ]
  },
  {
   "cell_type": "markdown",
   "metadata": {},
   "source": [
    "Let's look at the distribution of data for the HEIGHT attribute."
   ]
  },
  {
   "cell_type": "code",
   "execution_count": 39,
   "metadata": {},
   "outputs": [
    {
     "name": "stdout",
     "output_type": "stream",
     "text": [
      "0\n"
     ]
    }
   ],
   "source": [
    "# What is the min height?\n",
    "print(betterdf[\"HEIGHT\"].min())"
   ]
  },
  {
   "cell_type": "code",
   "execution_count": 40,
   "metadata": {},
   "outputs": [
    {
     "name": "stdout",
     "output_type": "stream",
     "text": [
      "140\n"
     ]
    }
   ],
   "source": [
    "# What is the max height?\n",
    "print(betterdf[\"HEIGHT\"].max())"
   ]
  },
  {
   "cell_type": "code",
   "execution_count": 41,
   "metadata": {},
   "outputs": [
    {
     "data": {
      "text/html": [
       "<div>\n",
       "<style scoped>\n",
       "    .dataframe tbody tr th:only-of-type {\n",
       "        vertical-align: middle;\n",
       "    }\n",
       "\n",
       "    .dataframe tbody tr th {\n",
       "        vertical-align: top;\n",
       "    }\n",
       "\n",
       "    .dataframe thead th {\n",
       "        text-align: right;\n",
       "    }\n",
       "</style>\n",
       "<table border=\"1\" class=\"dataframe\">\n",
       "  <thead>\n",
       "    <tr style=\"text-align: right;\">\n",
       "      <th></th>\n",
       "      <th>ID</th>\n",
       "      <th>HEIGHT</th>\n",
       "    </tr>\n",
       "  </thead>\n",
       "  <tbody>\n",
       "    <tr>\n",
       "      <th>count</th>\n",
       "      <td>4193.000000</td>\n",
       "      <td>4193.000000</td>\n",
       "    </tr>\n",
       "    <tr>\n",
       "      <th>mean</th>\n",
       "      <td>2097.000000</td>\n",
       "      <td>55.311472</td>\n",
       "    </tr>\n",
       "    <tr>\n",
       "      <th>std</th>\n",
       "      <td>1210.559168</td>\n",
       "      <td>36.293489</td>\n",
       "    </tr>\n",
       "    <tr>\n",
       "      <th>min</th>\n",
       "      <td>1.000000</td>\n",
       "      <td>0.000000</td>\n",
       "    </tr>\n",
       "    <tr>\n",
       "      <th>25%</th>\n",
       "      <td>1049.000000</td>\n",
       "      <td>23.000000</td>\n",
       "    </tr>\n",
       "    <tr>\n",
       "      <th>50%</th>\n",
       "      <td>2097.000000</td>\n",
       "      <td>50.000000</td>\n",
       "    </tr>\n",
       "    <tr>\n",
       "      <th>75%</th>\n",
       "      <td>3145.000000</td>\n",
       "      <td>86.000000</td>\n",
       "    </tr>\n",
       "    <tr>\n",
       "      <th>max</th>\n",
       "      <td>4193.000000</td>\n",
       "      <td>140.000000</td>\n",
       "    </tr>\n",
       "  </tbody>\n",
       "</table>\n",
       "</div>"
      ],
      "text/plain": [
       "                ID       HEIGHT\n",
       "count  4193.000000  4193.000000\n",
       "mean   2097.000000    55.311472\n",
       "std    1210.559168    36.293489\n",
       "min       1.000000     0.000000\n",
       "25%    1049.000000    23.000000\n",
       "50%    2097.000000    50.000000\n",
       "75%    3145.000000    86.000000\n",
       "max    4193.000000   140.000000"
      ]
     },
     "execution_count": 41,
     "metadata": {},
     "output_type": "execute_result"
    }
   ],
   "source": [
    "# How do we acquire count, mean, standard deviation, and distribution information from the DataFrame \n",
    "# by invoking a single method?\n",
    "betterdf.describe()"
   ]
  },
  {
   "cell_type": "markdown",
   "metadata": {},
   "source": [
    "# Plot a histogram using the HEIGHT attribute. \n",
    "\n",
    "resources:\n",
    "* [Magic commands](https://ipython.readthedocs.io/en/stable/interactive/magics.html)\n",
    "* [Pandas Series Hist](https://pandas.pydata.org/pandas-docs/stable/reference/api/pandas.Series.plot.hist.html#pandas.Series.plot.hist)"
   ]
  },
  {
   "cell_type": "code",
   "execution_count": 42,
   "metadata": {},
   "outputs": [],
   "source": [
    "# Apply magic command to display matplotlib images inline\n",
    "%matplotlib inline"
   ]
  },
  {
   "cell_type": "code",
   "execution_count": 48,
   "metadata": {},
   "outputs": [
    {
     "data": {
      "image/png": "[encoded data removed]",
      "text/plain": [
       "<Figure size 1000x800 with 1 Axes>"
      ]
     },
     "metadata": {},
     "output_type": "display_data"
    }
   ],
   "source": [
    "# Create a histogram using the HEIGHT attribute here\n",
    "ax = betterdf.plot.hist(column=[\"HEIGHT\"], figsize=(10, 8))\n"
   ]
  },
  {
   "cell_type": "markdown",
   "metadata": {},
   "source": [
    "The data narrative specifies the following:\n",
    "\"A total of 4,193 sites were inventoried, including 4,087 trees, 100 stumps, and 6 vacant planting sites\"\n",
    "\n",
    "Earlier, we were able to validate the total number of entries in the DataFrame. Let's now dig in a bit deeper and validate the stumps and vacant planting sites."
   ]
  },
  {
   "cell_type": "code",
   "execution_count": 55,
   "metadata": {},
   "outputs": [
    {
     "name": "stdout",
     "output_type": "stream",
     "text": [
      "100\n"
     ]
    }
   ],
   "source": [
    "# How many entries are stumps\n",
    "stumpy = betterdf[\"BOTANICAL\"].apply(lambda x:x==\"stump\").sum()\n",
    "print(stumpy)"
   ]
  },
  {
   "cell_type": "code",
   "execution_count": 66,
   "metadata": {},
   "outputs": [
    {
     "name": "stdout",
     "output_type": "stream",
     "text": [
      "6\n"
     ]
    }
   ],
   "source": [
    "# How many entries are vacant sites\n",
    "stumpy = betterdf[\"BOTANICAL\"].apply(lambda x:x==\"vacant site large\").sum()\n",
    "print(stumpy)"
   ]
  },
  {
   "cell_type": "code",
   "execution_count": null,
   "metadata": {},
   "outputs": [],
   "source": [
    "# Do these number add up?\n",
    "Yes"
   ]
  },
  {
   "cell_type": "markdown",
   "metadata": {},
   "source": [
    "# Plot a bar graph using the COND attribute.\n",
    "\n",
    "resources:\n",
    "* [Pandas Series Bar](https://pandas.pydata.org/pandas-docs/stable/reference/api/pandas.Series.plot.bar.html#pandas.Series.plot.bar)"
   ]
  },
  {
   "cell_type": "code",
   "execution_count": 72,
   "metadata": {},
   "outputs": [
    {
     "data": {
      "image/png": "[encoded data removed]",
      "text/plain": [
       "<Figure size 640x480 with 1 Axes>"
      ]
     },
     "metadata": {},
     "output_type": "display_data"
    }
   ],
   "source": [
    "# How can we determine all of the possible values describing the condition of a tree and their associated counts?\n",
    "freq=betterdf[\"COND\"].value_counts()\n",
    "freq.plot.bar()\n",
    "plt.xlabel('freq')\n",
    "plt.ylabel('COND')\n",
    "plt.title('Tree Conditions')\n",
    "plt.show()"
   ]
  },
  {
   "cell_type": "code",
   "execution_count": 96,
   "metadata": {},
   "outputs": [],
   "source": [
    "# Were these already in the order you would want them to be in order for a graph to make sense? \n",
    "# If not, reorder  the Series.\n",
    "state_of_wood=[\"Excellent\",\"Very Good\",\"Good\",\"Fair\",\"Poor\",\"Very Poor\",\"Critical\",\"Dead\"]"
   ]
  },
  {
   "cell_type": "code",
   "execution_count": 99,
   "metadata": {},
   "outputs": [
    {
     "data": {
      "image/png": "[encoded data removed]",
      "text/plain": [
       "<Figure size 640x480 with 1 Axes>"
      ]
     },
     "metadata": {},
     "output_type": "display_data"
    }
   ],
   "source": [
    "# Plot the Series here\n",
    "risky_bar= freq.loc[state_of_wood].plot(kind=\"bar\", legend=False)"
   ]
  },
  {
   "cell_type": "code",
   "execution_count": 102,
   "metadata": {},
   "outputs": [
    {
     "name": "stdout",
     "output_type": "stream",
     "text": [
      "106\n",
      "        ID COMMON BOTANICAL COND RISK           UNIQUEID  HEIGHT\n",
      "118  119.0  stump     stump  NaN  NaN  LM 20151001093501       0\n",
      "119  120.0  stump     stump  NaN  NaN  LM 20151001093612       0\n",
      "106 reflects the stumps and vacant entries\n"
     ]
    }
   ],
   "source": [
    "# How many entries have missing values for the COND attribute? Why are these values missing?\n",
    "missing_cond=betterdf[\"COND\"].isna().sum()\n",
    "print(missing_cond)\n",
    "\n",
    "\n",
    "see_miss=betterdf[betterdf[\"COND\"].isna()].head(2)\n",
    "print(see_miss)\n",
    "\n",
    "\n",
    "print(f\"{missing_cond} reflects the stumps and vacant entries\")"
   ]
  },
  {
   "cell_type": "markdown",
   "metadata": {},
   "source": [
    "# Plot a pie chart using the RISK attribute."
   ]
  },
  {
   "cell_type": "markdown",
   "metadata": {},
   "source": [
    "resources:\n",
    "* [Pandas Series Pie](https://pandas.pydata.org/pandas-docs/stable/reference/api/pandas.Series.plot.pie.html#pandas.Series.plot.pie)\n",
    "* [matplotlib pie chart docs](https://matplotlib.org/api/pyplot_api.html#matplotlib.pyplot.pie)"
   ]
  },
  {
   "cell_type": "code",
   "execution_count": 93,
   "metadata": {},
   "outputs": [
    {
     "name": "stdout",
     "output_type": "stream",
     "text": [
      "count     4087\n",
      "unique       3\n",
      "top        Low\n",
      "freq      3833\n",
      "Name: RISK, dtype: object\n",
      "['Low' 'Moderate' nan 'High']\n"
     ]
    }
   ],
   "source": [
    "# How can we determine all of the possible values describing the RISK associated with each tree\n",
    "# along with the corresponding row counts?\n",
    "print(betterdf[\"RISK\"].describe())\n",
    "print(betterdf[\"RISK\"].unique())"
   ]
  },
  {
   "cell_type": "code",
   "execution_count": 113,
   "metadata": {},
   "outputs": [],
   "source": [
    "# Create an array containing the colors green, yellow, and orange\n",
    "# When we create our pie chart, the colors should be associated with the attributes according to the specifications below:\n",
    "# Green -> Low\n",
    "# Yellow -> Moderate\n",
    "# Orange -> High\n",
    "risky_pie=betterdf[\"RISK\"].dropna().value_counts()"
   ]
  },
  {
   "cell_type": "code",
   "execution_count": 112,
   "metadata": {},
   "outputs": [
    {
     "data": {
      "image/png": "[encoded data removed]",
      "text/plain": [
       "<Figure size 640x480 with 1 Axes>"
      ]
     },
     "metadata": {},
     "output_type": "display_data"
    }
   ],
   "source": [
    "# Plot the pie chart here\n",
    "risky_colors=[\"green\",\"yellow\", \"orange\"]\n",
    "risky_plot = risky_pie.plot.pie(y='value', colors=risky_colors)\n"
   ]
  },
  {
   "cell_type": "code",
   "execution_count": 114,
   "metadata": {},
   "outputs": [
    {
     "name": "stdout",
     "output_type": "stream",
     "text": [
      "106\n"
     ]
    }
   ],
   "source": [
    "# How many entries have missing values for the RISK attribute? Why are these values missing?\n",
    "missing_risk=betterdf[\"RISK\"].isna().sum()\n",
    "print(missing_risk)\n",
    "\n",
    "These are the stumps/vacants"
   ]
  },
  {
   "cell_type": "markdown",
   "metadata": {},
   "source": [
    "# Indexing"
   ]
  },
  {
   "cell_type": "code",
   "execution_count": null,
   "metadata": {},
   "outputs": [],
   "source": [
    "# Display row by position 1\n"
   ]
  },
  {
   "cell_type": "code",
   "execution_count": null,
   "metadata": {},
   "outputs": [],
   "source": [
    "# Display row by label 1\n"
   ]
  },
  {
   "cell_type": "code",
   "execution_count": null,
   "metadata": {},
   "outputs": [],
   "source": []
  }
 ],
 "metadata": {
  "kernelspec": {
   "display_name": "Python 3 (ipykernel)",
   "language": "python",
   "name": "python3"
  },
  "language_info": {
   "codemirror_mode": {
    "name": "ipython",
    "version": 3
   },
   "file_extension": ".py",
   "mimetype": "text/x-python",
   "name": "python",
   "nbconvert_exporter": "python",
   "pygments_lexer": "ipython3",
   "version": "3.12.5"
  }
 },
 "nbformat": 4,
 "nbformat_minor": 4
}
